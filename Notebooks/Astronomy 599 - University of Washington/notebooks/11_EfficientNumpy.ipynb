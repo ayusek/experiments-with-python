{
 "cells": [
  {
   "cell_type": "markdown",
   "metadata": {
    "slideshow": {
     "slide_type": "skip"
    }
   },
   "source": [
    "<style>\n",
    "div.cell, div.text_cell_render{\n",
    "  max-width:750px;\n",
    "  margin-left:auto;\n",
    "  margin-right:auto;\n",
    "}\n",
    "\n",
    ".rendered_html\n",
    "{\n",
    "  font-size: 140%;\n",
    "  }\n",
    "\n",
    ".rendered_html li\n",
    "{\n",
    "  line-height: 1.8;\n",
    "  }\n",
    "\n",
    ".rendered_html h1, h2 {\n",
    "  text-align:center;\n",
    "  font-familly:\"Charis SIL\", serif;\n",
    "}\n",
    "\n",
    ".input_prompt, .CodeMirror-lines, .output_area\n",
    "{\n",
    "  font-family: Consolas;\n",
    "  font-size: 110%;\n",
    "  }\n",
    "</style>"
   ]
  },
  {
   "cell_type": "markdown",
   "metadata": {},
   "source": [
    "<small><i>This notebook was put together by [Jake Vanderplas](http://www.vanderplas.com) for UW's [Astro 599](http://www.astro.washington.edu/users/vanderplas/Astr599/) course. Source and license info is on [GitHub](https://github.com/jakevdp/2013_fall_ASTR599/).</i></small>"
   ]
  },
  {
   "cell_type": "markdown",
   "metadata": {
    "slideshow": {
     "slide_type": "slide"
    }
   },
   "source": [
    "# Efficient Numerical Computing with Numpy\n",
    "\n",
    "In this session, we'll discuss how to make your programs as efficient as possible, mainly by taking advantage of *vectorization* in NumPy."
   ]
  },
  {
   "cell_type": "markdown",
   "metadata": {
    "slideshow": {
     "slide_type": "slide"
    }
   },
   "source": [
    "## Aside: the \"Unladen Swallow\""
   ]
  },
  {
   "cell_type": "code",
   "execution_count": 1,
   "metadata": {
    "collapsed": false,
    "slideshow": {
     "slide_type": "fragment"
    }
   },
   "outputs": [
    {
     "data": {
      "text/html": [
       "\n",
       "        <iframe\n",
       "            width=\"400\"\n",
       "            height=\"300\"\n",
       "            src=\"https://www.youtube.com/embed/y2R3FvS4xr4\"\n",
       "            frameborder=\"0\"\n",
       "            allowfullscreen\n",
       "        ></iframe>\n",
       "        "
      ],
      "text/plain": [
       "<IPython.lib.display.YouTubeVideo at 0x1077c92d0>"
      ]
     },
     "execution_count": 1,
     "metadata": {},
     "output_type": "execute_result"
    }
   ],
   "source": [
    "from IPython.display import YouTubeVideo\n",
    "YouTubeVideo(\"y2R3FvS4xr4\")"
   ]
  },
  {
   "cell_type": "markdown",
   "metadata": {
    "slideshow": {
     "slide_type": "slide"
    }
   },
   "source": [
    "That video was the original reference behind the now-defunct [unladen swallow](http://en.wikipedia.org/wiki/Unladen_Swallow) project, which had the goal of making Python's C implementation faster.\n",
    "\n",
    "Yes, Python is (unfortunately) a rather slow language.\n",
    "\n",
    "Here is an example:"
   ]
  },
  {
   "cell_type": "code",
   "execution_count": 1,
   "metadata": {
    "collapsed": false,
    "slideshow": {
     "slide_type": "fragment"
    }
   },
   "outputs": [],
   "source": [
    "# A silly function implemented in Python\n",
    "\n",
    "def func_python(N): \n",
    "    d = 0.0\n",
    "    for i in range(N):\n",
    "        d += (i % 3 - 1) * i\n",
    "    return d"
   ]
  },
  {
   "cell_type": "code",
   "execution_count": 2,
   "metadata": {
    "collapsed": false,
    "slideshow": {
     "slide_type": "fragment"
    }
   },
   "outputs": [
    {
     "name": "stdout",
     "output_type": "stream",
     "text": [
      "1000 loops, best of 3: 1.59 ms per loop\n"
     ]
    }
   ],
   "source": [
    "# Use IPython timeit magic to time the execution\n",
    "%timeit func_python(10000)"
   ]
  },
  {
   "cell_type": "markdown",
   "metadata": {
    "slideshow": {
     "slide_type": "fragment"
    }
   },
   "source": [
    "To compare to a compiled language, let's write the same function in fortran and use the ``f2py`` tool (included in NumPy) to compile it"
   ]
  },
  {
   "cell_type": "code",
   "execution_count": 5,
   "metadata": {
    "collapsed": false,
    "slideshow": {
     "slide_type": "fragment"
    }
   },
   "outputs": [
    {
     "name": "stdout",
     "output_type": "stream",
     "text": [
      "Overwriting func_fortran.f\n"
     ]
    }
   ],
   "source": [
    "%%file func_fortran.f\n",
    "\n",
    "      subroutine func_fort(n, d)\n",
    "           integer, intent(in) :: n\n",
    "           double precision, intent(out) :: d\n",
    "           integer :: i\n",
    "           d = 0\n",
    "           do i = 0, n - 1\n",
    "                d = d + (mod(i, 3) - 1) * i\n",
    "           end do\n",
    "      end subroutine func_fort\n"
   ]
  },
  {
   "cell_type": "code",
   "execution_count": 5,
   "metadata": {
    "collapsed": false,
    "slideshow": {
     "slide_type": "fragment"
    }
   },
   "outputs": [
    {
     "name": "stdout",
     "output_type": "stream",
     "text": [
      "IOError: [Errno 2] No such file or directory: 'func_fortran.f'. Skipping file \"func_fortran.f\".\n",
      "error: f2py target file '/var/folders/3y/w606ww152410_h2s36zpxtr80000gn/T/tmpQIAedm/src.macosx-10.11-x86_64-2.7/func_fortranmodule.c' not generated\n"
     ]
    }
   ],
   "source": [
    "!f2py -c func_fortran.f -m func_fortran > /dev/null  #f2py is a nice tool"
   ]
  },
  {
   "cell_type": "code",
   "execution_count": 6,
   "metadata": {
    "collapsed": false,
    "slideshow": {
     "slide_type": "fragment"
    }
   },
   "outputs": [
    {
     "ename": "ImportError",
     "evalue": "No module named func_fortran",
     "output_type": "error",
     "traceback": [
      "\u001b[0;31m---------------------------------------------------------------------------\u001b[0m",
      "\u001b[0;31mImportError\u001b[0m                               Traceback (most recent call last)",
      "\u001b[0;32m<ipython-input-6-ccef65dde08a>\u001b[0m in \u001b[0;36m<module>\u001b[0;34m()\u001b[0m\n\u001b[0;32m----> 1\u001b[0;31m \u001b[0;32mfrom\u001b[0m \u001b[0mfunc_fortran\u001b[0m \u001b[0;32mimport\u001b[0m \u001b[0mfunc_fort\u001b[0m\u001b[0;34m\u001b[0m\u001b[0m\n\u001b[0m\u001b[1;32m      2\u001b[0m \u001b[0mget_ipython\u001b[0m\u001b[0;34m(\u001b[0m\u001b[0;34m)\u001b[0m\u001b[0;34m.\u001b[0m\u001b[0mmagic\u001b[0m\u001b[0;34m(\u001b[0m\u001b[0;34mu'timeit func_fort(10000)'\u001b[0m\u001b[0;34m)\u001b[0m\u001b[0;34m\u001b[0m\u001b[0m\n",
      "\u001b[0;31mImportError\u001b[0m: No module named func_fortran"
     ]
    }
   ],
   "source": [
    "from func_fortran import func_fort\n",
    "%timeit func_fort(10000)"
   ]
  },
  {
   "cell_type": "markdown",
   "metadata": {
    "slideshow": {
     "slide_type": "fragment"
    }
   },
   "source": [
    "Fortran is about 100 times faster for this task!"
   ]
  },
  {
   "cell_type": "markdown",
   "metadata": {
    "slideshow": {
     "slide_type": "slide"
    }
   },
   "source": [
    "## Why is Python so slow?\n",
    "\n",
    "We alluded to this yesterday, but languages tend to have a compromise between convenience and performance.\n",
    "\n",
    "- <font color=\"green\">C, Fortran, etc.</font>: **static typing** and **compiled code** leads to fast execution\n",
    "\n",
    "    + But: lots of development overhead in declaring variables, no interactive prompt, etc.\n",
    "\n",
    "- <font color=\"red\">Python, R, Matlab, IDL, etc.</font>: **dynamic typing** and **interpreted excecution** leads to fast development\n",
    "\n",
    "    + But: lots of execution overhead in dynamic type-checking, etc.\n",
    "    \n",
    "We like Python because our **development time** is generally more valuable than **execution time**.  But sometimes speed can be an issue."
   ]
  },
  {
   "cell_type": "markdown",
   "metadata": {
    "slideshow": {
     "slide_type": "slide"
    }
   },
   "source": [
    "## Strategies for making Python fast\n",
    "\n",
    "1. Use Numpy **ufuncs** to your advantage\n",
    "\n",
    "2. Use Numpy **aggregates** to your advantage\n",
    "\n",
    "3. Use Numpy **broadcasting** to your advantage\n",
    "\n",
    "4. Use Numpy **slicing and masking** to your advantage\n",
    "\n",
    "5. Use a tool like *SWIG*, *cython* or *f2py* to interface to compiled code.\n",
    "\n",
    "Here we'll cover the first four, and leave the fifth strategy for a later session."
   ]
  },
  {
   "cell_type": "markdown",
   "metadata": {
    "slideshow": {
     "slide_type": "slide"
    }
   },
   "source": [
    "## Strategy 1: Using UFuncs in Numpy\n",
    "\n",
    "A **ufunc** in numpy is a *Universal Function*.  This is a function which operates element-wise on an array.  We've already seen examples of these in the various arithmetic operations:"
   ]
  },
  {
   "cell_type": "code",
   "execution_count": 7,
   "metadata": {
    "collapsed": false,
    "slideshow": {
     "slide_type": "fragment"
    }
   },
   "outputs": [
    {
     "name": "stdout",
     "output_type": "stream",
     "text": [
      "[ 0.17990409  0.19374194  0.67406277  0.15762164]\n",
      "[ 1.17990409  1.19374194  1.67406277  1.15762164]\n"
     ]
    }
   ],
   "source": [
    "import numpy as np\n",
    "x = np.random.random(4)\n",
    "print x\n",
    "print x + 1  # add 1 to each element of x"
   ]
  },
  {
   "cell_type": "code",
   "execution_count": 9,
   "metadata": {
    "collapsed": false,
    "slideshow": {
     "slide_type": "fragment"
    }
   },
   "outputs": [
    {
     "name": "stdout",
     "output_type": "stream",
     "text": [
      "[ 1.81678346  1.32294159  1.49214734  1.32228771]\n"
     ]
    }
   ],
   "source": [
    "print x * 2  # multiply each element of x by 2"
   ]
  },
  {
   "cell_type": "code",
   "execution_count": 10,
   "metadata": {
    "collapsed": false,
    "slideshow": {
     "slide_type": "fragment"
    }
   },
   "outputs": [
    {
     "name": "stdout",
     "output_type": "stream",
     "text": [
      "[ 0.82517553  0.43754362  0.55662592  0.43711119]\n"
     ]
    }
   ],
   "source": [
    "print x * x  # multiply each element of x by itself"
   ]
  },
  {
   "cell_type": "code",
   "execution_count": 8,
   "metadata": {
    "collapsed": false,
    "slideshow": {
     "slide_type": "fragment"
    }
   },
   "outputs": [
    {
     "name": "stdout",
     "output_type": "stream",
     "text": [
      "[ 0.01383784  0.48032083 -0.51644113]\n"
     ]
    }
   ],
   "source": [
    "print x[1:] - x[:-1]"
   ]
  },
  {
   "cell_type": "markdown",
   "metadata": {
    "slideshow": {
     "slide_type": "fragment"
    }
   },
   "source": [
    "These are *binary ufuncs*: they take two arguments.\n",
    "\n",
    "There are also many *unary ufuncs:*"
   ]
  },
  {
   "cell_type": "code",
   "execution_count": 9,
   "metadata": {
    "collapsed": false,
    "slideshow": {
     "slide_type": "fragment"
    }
   },
   "outputs": [
    {
     "data": {
      "text/plain": [
       "array([-0.17990409, -0.19374194, -0.67406277, -0.15762164])"
      ]
     },
     "execution_count": 9,
     "metadata": {},
     "output_type": "execute_result"
    }
   ],
   "source": [
    "-x"
   ]
  },
  {
   "cell_type": "code",
   "execution_count": 10,
   "metadata": {
    "collapsed": false,
    "slideshow": {
     "slide_type": "fragment"
    }
   },
   "outputs": [
    {
     "data": {
      "text/plain": [
       "array([ 0.17893521,  0.19253216,  0.62416534,  0.15696978])"
      ]
     },
     "execution_count": 10,
     "metadata": {},
     "output_type": "execute_result"
    }
   ],
   "source": [
    "np.sin(x)"
   ]
  },
  {
   "cell_type": "markdown",
   "metadata": {
    "slideshow": {
     "slide_type": "slide"
    }
   },
   "source": [
    "### The Speed of Ufuncs"
   ]
  },
  {
   "cell_type": "code",
   "execution_count": 14,
   "metadata": {
    "collapsed": false,
    "slideshow": {
     "slide_type": "fragment"
    }
   },
   "outputs": [],
   "source": [
    "x = np.random.random(10000)"
   ]
  },
  {
   "cell_type": "code",
   "execution_count": 13,
   "metadata": {
    "collapsed": false,
    "slideshow": {
     "slide_type": "fragment"
    }
   },
   "outputs": [
    {
     "name": "stdout",
     "output_type": "stream",
     "text": [
      "The slowest run took 8.07 times longer than the fastest. This could mean that an intermediate result is being cached \n",
      "100000 loops, best of 3: 4.08 µs per loop\n"
     ]
    }
   ],
   "source": [
    "%%timeit   #times the corresponding cell of ipython notebook \n",
    "# compute element-wise x + 1 via a ufunc \n",
    "y = np.zeros_like(x)\n",
    "y = x + 1"
   ]
  },
  {
   "cell_type": "code",
   "execution_count": 14,
   "metadata": {
    "collapsed": false,
    "slideshow": {
     "slide_type": "fragment"
    }
   },
   "outputs": [
    {
     "name": "stdout",
     "output_type": "stream",
     "text": [
      "The slowest run took 6.59 times longer than the fastest. This could mean that an intermediate result is being cached \n",
      "100000 loops, best of 3: 4.71 µs per loop\n"
     ]
    }
   ],
   "source": [
    "%%timeit\n",
    "# compute element-wise x + 1 via a loop\n",
    "y = np.zeros_like(x)\n",
    "for i in range(len(x)):\n",
    "    y[i] = x[i] + 1"
   ]
  },
  {
   "cell_type": "code",
   "execution_count": 17,
   "metadata": {
    "collapsed": false
   },
   "outputs": [
    {
     "data": {
      "text/plain": [
       "<function numpy.core.numeric.zeros_like>"
      ]
     },
     "execution_count": 17,
     "metadata": {},
     "output_type": "execute_result"
    }
   ],
   "source": [
    "np.zeros_like   #V.V. useful, you do not need to go to the size of the new array"
   ]
  },
  {
   "cell_type": "markdown",
   "metadata": {
    "slideshow": {
     "slide_type": "fragment"
    }
   },
   "source": [
    "#### Why is NumPy so much faster?\n",
    "\n",
    "Numpy UFuncs are faster than Python functions involving loops, because *the looping happens in compiled code*.  This is only possible when types are known beforehand, which is why numpy arrays must be typed."
   ]
  },
  {
   "cell_type": "markdown",
   "metadata": {
    "slideshow": {
     "slide_type": "slide"
    }
   },
   "source": [
    "### Other Available Ufuncs\n",
    "\n",
    "- Trigonometric functions (``np.sin``, ``np.cos``, etc.)\n",
    "- Scipy special functions (``scipy.special.j0``, ``scipy.special.gammaln``, etc.)\n",
    "- Element-wise minimum/maximum (``np.minimum``, ``np.maximum``)\n",
    "- User-defined ufuncs (read more [here](http://scipy-lectures.github.io/advanced/advanced_numpy/#universal-functions))"
   ]
  },
  {
   "cell_type": "code",
   "execution_count": 19,
   "metadata": {
    "collapsed": false
   },
   "outputs": [
    {
     "name": "stdout",
     "output_type": "stream",
     "text": [
      "[ 0.62459803  0.84185619  0.49414511  0.00463438  0.35469858]\n",
      "[ 0.33039625  0.55327746  0.22341168  0.69148112  0.44113723]\n",
      "[ 0.33039625  0.55327746  0.22341168  0.00463438  0.35469858]\n",
      "[ 0.62459803  0.84185619  0.49414511  0.69148112  0.44113723]\n"
     ]
    }
   ],
   "source": [
    "x = np.random.random(5)\n",
    "y = np.random.random(5)\n",
    "print x\n",
    "print y\n",
    "print np.minimum(x, y)\n",
    "print np.maximum(x, y)"
   ]
  },
  {
   "cell_type": "code",
   "execution_count": 21,
   "metadata": {
    "collapsed": false
   },
   "outputs": [
    {
     "name": "stdout",
     "output_type": "stream",
     "text": [
      "0.00463437940796\n",
      "0.841856186453\n"
     ]
    }
   ],
   "source": [
    "# contrast this behavior with that of min() and max()\n",
    "print np.min(x)  #returns the min in that array, min vs minimum \n",
    "print np.max(x)"
   ]
  },
  {
   "cell_type": "code",
   "execution_count": 22,
   "metadata": {
    "collapsed": false,
    "slideshow": {
     "slide_type": "fragment"
    }
   },
   "outputs": [
    {
     "name": "stderr",
     "output_type": "stream",
     "text": [
      "/usr/local/lib/python2.7/site-packages/matplotlib/font_manager.py:273: UserWarning: Matplotlib is building the font cache using fc-list. This may take a moment.\n",
      "  warnings.warn('Matplotlib is building the font cache using fc-list. This may take a moment.')\n"
     ]
    }
   ],
   "source": [
    "%matplotlib inline\n",
    "# On older IPython versions, use %pylab inline\n",
    "import matplotlib.pyplot as plt"
   ]
  },
  {
   "cell_type": "code",
   "execution_count": 23,
   "metadata": {
    "collapsed": false,
    "slideshow": {
     "slide_type": "fragment"
    }
   },
   "outputs": [
    {
     "data": {
      "text/plain": [
       "[<matplotlib.lines.Line2D at 0x110026e90>]"
      ]
     },
     "execution_count": 23,
     "metadata": {},
     "output_type": "execute_result"
    },
    {
     "data": {
      "image/png": "[encoded data removed]",
      "text/plain": [
       "<matplotlib.figure.Figure at 0x110026a90>"
      ]
     },
     "metadata": {},
     "output_type": "display_data"
    }
   ],
   "source": [
    "x = np.linspace(0, 10, 1000)\n",
    "plt.plot(x, np.sin(x))"
   ]
  },
  {
   "cell_type": "code",
   "execution_count": 24,
   "metadata": {
    "collapsed": false,
    "slideshow": {
     "slide_type": "fragment"
    }
   },
   "outputs": [
    {
     "data": {
      "text/plain": [
       "[<matplotlib.lines.Line2D at 0x11159d290>]"
      ]
     },
     "execution_count": 24,
     "metadata": {},
     "output_type": "execute_result"
    },
    {
     "data": {
      "image/png": "[encoded data removed]",
      "text/plain": [
       "<matplotlib.figure.Figure at 0x110dfd550>"
      ]
     },
     "metadata": {},
     "output_type": "display_data"
    }
   ],
   "source": [
    "from scipy.special import gammaln\n",
    "plt.plot(x, gammaln(x))"
   ]
  },
  {
   "cell_type": "markdown",
   "metadata": {
    "slideshow": {
     "slide_type": "slide"
    }
   },
   "source": [
    "### Some interesting properties of UFuncs\n",
    "\n",
    "UFuncs have some methods built-in, which allow for some very interesting, flexible, and fast operations:\n",
    "UFuncs have methods like accummulate and outer !!!"
   ]
  },
  {
   "cell_type": "code",
   "execution_count": 30,
   "metadata": {
    "collapsed": false,
    "slideshow": {
     "slide_type": "fragment"
    }
   },
   "outputs": [
    {
     "data": {
      "text/plain": [
       "array([1, 3, 5, 7, 9])"
      ]
     },
     "execution_count": 30,
     "metadata": {},
     "output_type": "execute_result"
    }
   ],
   "source": [
    "x = np.arange(5)\n",
    "y = np.arange(1, 6)\n",
    "np.add(x, y)"
   ]
  },
  {
   "cell_type": "code",
   "execution_count": 34,
   "metadata": {
    "collapsed": false,
    "slideshow": {
     "slide_type": "fragment"
    }
   },
   "outputs": [
    {
     "data": {
      "text/plain": [
       "array([ 0,  1,  3,  6, 10])"
      ]
     },
     "execution_count": 34,
     "metadata": {},
     "output_type": "execute_result"
    }
   ],
   "source": [
    "np.add.accumulate(x)   #to get cummulative functions, much much faster than writing code"
   ]
  },
  {
   "cell_type": "code",
   "execution_count": 32,
   "metadata": {
    "collapsed": false,
    "slideshow": {
     "slide_type": "fragment"
    }
   },
   "outputs": [
    {
     "data": {
      "text/plain": [
       "array([0, 0, 0, 0, 0])"
      ]
     },
     "execution_count": 32,
     "metadata": {},
     "output_type": "execute_result"
    }
   ],
   "source": [
    "np.multiply.accumulate(x)"
   ]
  },
  {
   "cell_type": "code",
   "execution_count": 33,
   "metadata": {
    "collapsed": false,
    "slideshow": {
     "slide_type": "fragment"
    }
   },
   "outputs": [
    {
     "data": {
      "text/plain": [
       "array([  1,   2,   6,  24, 120])"
      ]
     },
     "execution_count": 33,
     "metadata": {},
     "output_type": "execute_result"
    }
   ],
   "source": [
    "np.multiply.accumulate(y)"
   ]
  },
  {
   "cell_type": "code",
   "execution_count": 45,
   "metadata": {
    "collapsed": false,
    "slideshow": {
     "slide_type": "fragment"
    }
   },
   "outputs": [
    {
     "data": {
      "text/plain": [
       "0"
      ]
     },
     "execution_count": 45,
     "metadata": {},
     "output_type": "execute_result"
    }
   ],
   "source": [
    "np.add.identity   #static data-type used to represent the identity element in the accummulate function"
   ]
  },
  {
   "cell_type": "code",
   "execution_count": 46,
   "metadata": {
    "collapsed": false,
    "slideshow": {
     "slide_type": "fragment"
    }
   },
   "outputs": [
    {
     "data": {
      "text/plain": [
       "1"
      ]
     },
     "execution_count": 46,
     "metadata": {},
     "output_type": "execute_result"
    }
   ],
   "source": [
    "np.multiply.identity"
   ]
  },
  {
   "cell_type": "code",
   "execution_count": 48,
   "metadata": {
    "collapsed": false,
    "slideshow": {
     "slide_type": "fragment"
    }
   },
   "outputs": [
    {
     "data": {
      "text/plain": [
       "array([[1, 2, 3, 4, 5],\n",
       "       [2, 3, 4, 5, 6],\n",
       "       [3, 4, 5, 6, 7],\n",
       "       [4, 5, 6, 7, 8],\n",
       "       [5, 6, 7, 8, 9]])"
      ]
     },
     "execution_count": 48,
     "metadata": {},
     "output_type": "execute_result"
    }
   ],
   "source": [
    "np.add.outer(x, y)  #returns a multi dimensional array"
   ]
  },
  {
   "cell_type": "code",
   "execution_count": 51,
   "metadata": {
    "collapsed": false
   },
   "outputs": [
    {
     "data": {
      "text/plain": [
       "array([[ 0,  0,  0,  0,  0],\n",
       "       [ 1,  2,  3,  4,  5],\n",
       "       [ 2,  4,  6,  8, 10],\n",
       "       [ 3,  6,  9, 12, 15],\n",
       "       [ 4,  8, 12, 16, 20]])"
      ]
     },
     "execution_count": 51,
     "metadata": {},
     "output_type": "execute_result"
    }
   ],
   "source": [
    "np.multiply.outer(x,y)  #v.v. efficient in forming grids , maybe can be evaluated with itertools to generate them lazily"
   ]
  },
  {
   "cell_type": "code",
   "execution_count": 29,
   "metadata": {
    "collapsed": false,
    "slideshow": {
     "slide_type": "fragment"
    }
   },
   "outputs": [
    {
     "name": "stdout",
     "output_type": "stream",
     "text": [
      "[[  1   2   3   4   5   6   7   8   9  10  11  12]\n",
      " [  2   4   6   8  10  12  14  16  18  20  22  24]\n",
      " [  3   6   9  12  15  18  21  24  27  30  33  36]\n",
      " [  4   8  12  16  20  24  28  32  36  40  44  48]\n",
      " [  5  10  15  20  25  30  35  40  45  50  55  60]\n",
      " [  6  12  18  24  30  36  42  48  54  60  66  72]\n",
      " [  7  14  21  28  35  42  49  56  63  70  77  84]\n",
      " [  8  16  24  32  40  48  56  64  72  80  88  96]\n",
      " [  9  18  27  36  45  54  63  72  81  90  99 108]\n",
      " [ 10  20  30  40  50  60  70  80  90 100 110 120]\n",
      " [ 11  22  33  44  55  66  77  88  99 110 121 132]\n",
      " [ 12  24  36  48  60  72  84  96 108 120 132 144]]\n"
     ]
    }
   ],
   "source": [
    "# make a times-table\n",
    "x = np.arange(1, 13)\n",
    "print np.multiply.outer(x, x)"
   ]
  },
  {
   "cell_type": "markdown",
   "metadata": {
    "slideshow": {
     "slide_type": "slide"
    }
   },
   "source": [
    "### UFunc mini-exercises\n",
    "\n",
    "Each of the following functions take an array as input, and return an array as output.  They are implemented using loops, which is not very efficient.\n",
    "\n",
    "1. For each function, implement a fast version which uses ufuncs to calculate the result more efficiently.  Double-check that you get the same result for several different arrays.\n",
    "\n",
    "2. use the %timeit magic to time the execution of the two implementations for a large array (say, 1000 elements).  "
   ]
  },
  {
   "cell_type": "code",
   "execution_count": 30,
   "metadata": {
    "collapsed": false,
    "slideshow": {
     "slide_type": "fragment"
    }
   },
   "outputs": [
    {
     "name": "stdout",
     "output_type": "stream",
     "text": [
      "[ 1.41379464  1.24311597  1.39711558  1.1674103   1.41168674]\n"
     ]
    }
   ],
   "source": [
    "# 1. computing the element-wise sine + cosine\n",
    "\n",
    "from math import sin, cos\n",
    "def slow_sincos(x):\n",
    "    \"\"\"x is a 1-dimensional array\"\"\"\n",
    "    y = np.zeros_like(x)\n",
    "    for i in range(len(x)):\n",
    "        y[i] = sin(x[i]) + cos(x[i])\n",
    "    return y\n",
    "\n",
    "x = np.random.random(5)\n",
    "print slow_sincos(x)"
   ]
  },
  {
   "cell_type": "code",
   "execution_count": 52,
   "metadata": {
    "collapsed": false,
    "slideshow": {
     "slide_type": "fragment"
    }
   },
   "outputs": [],
   "source": [
    "# write a fast_sincos function\n",
    "def fast_sincos(x):\n",
    "    return np.sin(x) + np.cos(x)"
   ]
  },
  {
   "cell_type": "code",
   "execution_count": 55,
   "metadata": {
    "collapsed": false,
    "slideshow": {
     "slide_type": "fragment"
    }
   },
   "outputs": [
    {
     "name": "stdout",
     "output_type": "stream",
     "text": [
      "[-0.34692631 -0.4071973  -0.04844841  0.04076136]\n"
     ]
    }
   ],
   "source": [
    "# 2. computing the difference between adjacent squares\n",
    "\n",
    "def slow_sqdiff(x):\n",
    "    \"\"\"x is a 1-dimensional array\"\"\"\n",
    "    y = np.zeros(len(x) - 1)\n",
    "    for i in range(len(y)):\n",
    "        y[i] = x[i + 1] ** 2 - x[i] ** 2\n",
    "    return y\n",
    "\n",
    "x = np.random.random(5)\n",
    "print slow_sqdiff(x)"
   ]
  },
  {
   "cell_type": "code",
   "execution_count": 54,
   "metadata": {
    "collapsed": false,
    "slideshow": {
     "slide_type": "fragment"
    }
   },
   "outputs": [],
   "source": [
    "# write a fast_sqdiff function\n",
    "def fast_sqdiff(x):\n",
    "    return x[1:]**2 - x[:-1]**2"
   ]
  },
  {
   "cell_type": "code",
   "execution_count": 57,
   "metadata": {
    "collapsed": false
   },
   "outputs": [
    {
     "name": "stdout",
     "output_type": "stream",
     "text": [
      "[ 1.  3.  5.  7.]\n",
      "[1 3 5 7]\n"
     ]
    }
   ],
   "source": [
    "print slow_sqdiff(np.arange(5)) \n",
    "print fast_sqdiff(np.arange(5))"
   ]
  },
  {
   "cell_type": "code",
   "execution_count": 58,
   "metadata": {
    "collapsed": false,
    "slideshow": {
     "slide_type": "fragment"
    }
   },
   "outputs": [
    {
     "name": "stdout",
     "output_type": "stream",
     "text": [
      "[[  2.   4.   6.   8.]\n",
      " [  6.  12.  18.  24.]\n",
      " [ 10.  20.  30.  40.]\n",
      " [ 14.  28.  42.  56.]]\n"
     ]
    }
   ],
   "source": [
    "# 3. computing the outer-product of each consecutive pair\n",
    "\n",
    "def slow_pairprod(x):\n",
    "    \"\"\"x is a 1-dimensional array\"\"\"\n",
    "    if len(x) % 2 != 0:\n",
    "        raise ValueError(\"length of x must be even\")\n",
    "    N = len(x) / 2\n",
    "    y = np.zeros((N, N))\n",
    "    for i in range(N):\n",
    "        for j in range(N):\n",
    "            y[i, j] = x[2 * i] * x[2 * j + 1] \n",
    "    return y\n",
    "\n",
    "x = np.arange(1, 9)\n",
    "print slow_pairprod(x)"
   ]
  },
  {
   "cell_type": "code",
   "execution_count": 35,
   "metadata": {
    "collapsed": false,
    "slideshow": {
     "slide_type": "fragment"
    }
   },
   "outputs": [],
   "source": [
    "# write a fast_pairprod function\n",
    "def fast_pairprod(x):\n",
    "    "
   ]
  },
  {
   "cell_type": "markdown",
   "metadata": {
    "slideshow": {
     "slide_type": "slide"
    }
   },
   "source": [
    "## Strategy 2. Using Numpy Aggregates\n",
    "\n",
    "Aggregates are functions over arrays which return smaller arrays.\n",
    "\n",
    "Numpy has several built-in"
   ]
  },
  {
   "cell_type": "code",
   "execution_count": 36,
   "metadata": {
    "collapsed": false,
    "slideshow": {
     "slide_type": "fragment"
    }
   },
   "outputs": [],
   "source": [
    "# 10 x 10 array drawn from a standard normal\n",
    "x = np.random.randn(10, 10)"
   ]
  },
  {
   "cell_type": "code",
   "execution_count": 37,
   "metadata": {
    "collapsed": false,
    "slideshow": {
     "slide_type": "fragment"
    }
   },
   "outputs": [
    {
     "name": "stdout",
     "output_type": "stream",
     "text": [
      "0.00323045925586\n"
     ]
    }
   ],
   "source": [
    "print x.mean()"
   ]
  },
  {
   "cell_type": "code",
   "execution_count": 38,
   "metadata": {
    "collapsed": false,
    "slideshow": {
     "slide_type": "fragment"
    }
   },
   "outputs": [
    {
     "name": "stdout",
     "output_type": "stream",
     "text": [
      "0.00323045925586\n"
     ]
    }
   ],
   "source": [
    "print np.mean(x)"
   ]
  },
  {
   "cell_type": "code",
   "execution_count": 39,
   "metadata": {
    "collapsed": false,
    "slideshow": {
     "slide_type": "fragment"
    }
   },
   "outputs": [
    {
     "name": "stdout",
     "output_type": "stream",
     "text": [
      "1.0801379167\n"
     ]
    }
   ],
   "source": [
    "print x.std()"
   ]
  },
  {
   "cell_type": "code",
   "execution_count": 40,
   "metadata": {
    "collapsed": false,
    "slideshow": {
     "slide_type": "fragment"
    }
   },
   "outputs": [
    {
     "name": "stdout",
     "output_type": "stream",
     "text": [
      "1.1666979191\n"
     ]
    }
   ],
   "source": [
    "print x.var()"
   ]
  },
  {
   "cell_type": "code",
   "execution_count": 41,
   "metadata": {
    "collapsed": false,
    "slideshow": {
     "slide_type": "fragment"
    }
   },
   "outputs": [
    {
     "name": "stdout",
     "output_type": "stream",
     "text": [
      "0.323045925586\n"
     ]
    }
   ],
   "source": [
    "print x.sum()"
   ]
  },
  {
   "cell_type": "code",
   "execution_count": 42,
   "metadata": {
    "collapsed": false,
    "slideshow": {
     "slide_type": "fragment"
    }
   },
   "outputs": [
    {
     "name": "stdout",
     "output_type": "stream",
     "text": [
      "-5.72610473992e-23\n"
     ]
    }
   ],
   "source": [
    "print x.prod()"
   ]
  },
  {
   "cell_type": "code",
   "execution_count": 43,
   "metadata": {
    "collapsed": false,
    "slideshow": {
     "slide_type": "fragment"
    }
   },
   "outputs": [
    {
     "name": "stdout",
     "output_type": "stream",
     "text": [
      "0.00389134929792\n"
     ]
    }
   ],
   "source": [
    "print np.median(x)"
   ]
  },
  {
   "cell_type": "code",
   "execution_count": 44,
   "metadata": {
    "collapsed": false,
    "slideshow": {
     "slide_type": "fragment"
    }
   },
   "outputs": [
    {
     "name": "stdout",
     "output_type": "stream",
     "text": [
      "0.00389134929792\n"
     ]
    }
   ],
   "source": [
    "print np.percentile(x, 50)"
   ]
  },
  {
   "cell_type": "code",
   "execution_count": 45,
   "metadata": {
    "collapsed": false,
    "slideshow": {
     "slide_type": "fragment"
    }
   },
   "outputs": [
    {
     "name": "stdout",
     "output_type": "stream",
     "text": [
      "[-0.78582974895964608, 0.7374780554465159]\n"
     ]
    }
   ],
   "source": [
    "print np.percentile(x, (25, 75))"
   ]
  },
  {
   "cell_type": "markdown",
   "metadata": {
    "slideshow": {
     "slide_type": "slide"
    }
   },
   "source": [
    "### Aggregates along certain dimensions"
   ]
  },
  {
   "cell_type": "code",
   "execution_count": 46,
   "metadata": {
    "collapsed": false,
    "slideshow": {
     "slide_type": "fragment"
    }
   },
   "outputs": [
    {
     "name": "stdout",
     "output_type": "stream",
     "text": [
      "[[ 0.20461757  0.63148584  0.87816143  0.60442118  0.79228768]\n",
      " [ 0.40654761  0.97038926  0.96468488  0.27046867  0.17623957]\n",
      " [ 0.08734478  0.38353736  0.16706956  0.17744179  0.14886722]]\n"
     ]
    }
   ],
   "source": [
    "x = np.random.rand(3, 5)\n",
    "print x"
   ]
  },
  {
   "cell_type": "code",
   "execution_count": 47,
   "metadata": {
    "collapsed": false,
    "slideshow": {
     "slide_type": "fragment"
    }
   },
   "outputs": [
    {
     "name": "stdout",
     "output_type": "stream",
     "text": [
      "[ 0.69850996  1.98541246  2.00991587  1.05233165  1.11739447]\n"
     ]
    }
   ],
   "source": [
    "print x.sum(0)  # sum along rows"
   ]
  },
  {
   "cell_type": "code",
   "execution_count": 48,
   "metadata": {
    "collapsed": false,
    "slideshow": {
     "slide_type": "fragment"
    }
   },
   "outputs": [
    {
     "name": "stdout",
     "output_type": "stream",
     "text": [
      "[ 3.11097371  2.78832999  0.96426071]\n"
     ]
    }
   ],
   "source": [
    "print x.sum(1)  # sum along columns"
   ]
  },
  {
   "cell_type": "code",
   "execution_count": 49,
   "metadata": {
    "collapsed": false,
    "slideshow": {
     "slide_type": "fragment"
    }
   },
   "outputs": [
    {
     "name": "stdout",
     "output_type": "stream",
     "text": [
      "[ 0.63148584  0.40654761  0.16706956]\n"
     ]
    }
   ],
   "source": [
    "print np.median(x, 1)"
   ]
  },
  {
   "cell_type": "code",
   "execution_count": 50,
   "metadata": {
    "collapsed": false,
    "slideshow": {
     "slide_type": "fragment"
    }
   },
   "outputs": [
    {
     "name": "stdout",
     "output_type": "stream",
     "text": [
      "[ 0.62219474  0.557666    0.19285214]\n"
     ]
    }
   ],
   "source": [
    "print np.mean(x, 1)"
   ]
  },
  {
   "cell_type": "markdown",
   "metadata": {
    "slideshow": {
     "slide_type": "slide"
    }
   },
   "source": [
    "### Binary ufuncs as aggregates\n",
    "\n",
    "Any binary ufunc (a ufunc taking two arguments) can be turned into an aggregate using the ``reduce()`` method:"
   ]
  },
  {
   "cell_type": "code",
   "execution_count": 51,
   "metadata": {
    "collapsed": false,
    "slideshow": {
     "slide_type": "fragment"
    }
   },
   "outputs": [
    {
     "data": {
      "text/plain": [
       "array([ 3.11097371,  2.78832999,  0.96426071])"
      ]
     },
     "execution_count": 51,
     "metadata": {},
     "output_type": "execute_result"
    }
   ],
   "source": [
    "np.sum(x, 1)"
   ]
  },
  {
   "cell_type": "code",
   "execution_count": 52,
   "metadata": {
    "collapsed": false,
    "slideshow": {
     "slide_type": "fragment"
    }
   },
   "outputs": [
    {
     "data": {
      "text/plain": [
       "array([ 3.11097371,  2.78832999,  0.96426071])"
      ]
     },
     "execution_count": 52,
     "metadata": {},
     "output_type": "execute_result"
    }
   ],
   "source": [
    "np.add.reduce(x, 1)"
   ]
  },
  {
   "cell_type": "code",
   "execution_count": 53,
   "metadata": {
    "collapsed": false,
    "slideshow": {
     "slide_type": "fragment"
    }
   },
   "outputs": [
    {
     "data": {
      "text/plain": [
       "array([ 0.05433798,  0.01814108,  0.00014784])"
      ]
     },
     "execution_count": 53,
     "metadata": {},
     "output_type": "execute_result"
    }
   ],
   "source": [
    "np.prod(x, 1)"
   ]
  },
  {
   "cell_type": "code",
   "execution_count": 54,
   "metadata": {
    "collapsed": false,
    "slideshow": {
     "slide_type": "fragment"
    }
   },
   "outputs": [
    {
     "data": {
      "text/plain": [
       "array([ 0.05433798,  0.01814108,  0.00014784])"
      ]
     },
     "execution_count": 54,
     "metadata": {},
     "output_type": "execute_result"
    }
   ],
   "source": [
    "np.multiply.reduce(x, 1)"
   ]
  },
  {
   "cell_type": "code",
   "execution_count": 55,
   "metadata": {
    "collapsed": false,
    "slideshow": {
     "slide_type": "fragment"
    }
   },
   "outputs": [
    {
     "data": {
      "text/plain": [
       "array([  0.77051726,   9.11086414,  51.60324064])"
      ]
     },
     "execution_count": 55,
     "metadata": {},
     "output_type": "execute_result"
    }
   ],
   "source": [
    "np.divide.reduce(x, 1)"
   ]
  },
  {
   "cell_type": "markdown",
   "metadata": {
    "slideshow": {
     "slide_type": "fragment"
    }
   },
   "source": [
    "A caution: for ``reduce`` methods, the default axis is 0:"
   ]
  },
  {
   "cell_type": "code",
   "execution_count": 56,
   "metadata": {
    "collapsed": false,
    "slideshow": {
     "slide_type": "fragment"
    }
   },
   "outputs": [
    {
     "data": {
      "text/plain": [
       "array([ 0.69850996,  1.98541246,  2.00991587,  1.05233165,  1.11739447])"
      ]
     },
     "execution_count": 56,
     "metadata": {},
     "output_type": "execute_result"
    }
   ],
   "source": [
    "np.add.reduce(x)"
   ]
  },
  {
   "cell_type": "code",
   "execution_count": 57,
   "metadata": {
    "collapsed": false,
    "slideshow": {
     "slide_type": "fragment"
    }
   },
   "outputs": [
    {
     "data": {
      "text/plain": [
       "6.8635644110229004"
      ]
     },
     "execution_count": 57,
     "metadata": {},
     "output_type": "execute_result"
    }
   ],
   "source": [
    "np.sum(x)"
   ]
  },
  {
   "cell_type": "markdown",
   "metadata": {
    "slideshow": {
     "slide_type": "slide"
    }
   },
   "source": [
    "### A quick efficiency note:\n",
    "### Beware the built-in Python aggregates!\n",
    "\n",
    "Python has a ``min``, ``max``, and ``sum`` aggregate built-in.  These are much more general than the versions in NumPy:"
   ]
  },
  {
   "cell_type": "code",
   "execution_count": 58,
   "metadata": {
    "collapsed": false,
    "slideshow": {
     "slide_type": "fragment"
    }
   },
   "outputs": [
    {
     "name": "stdout",
     "output_type": "stream",
     "text": [
      "100000 loops, best of 3: 16.4 µs per loop\n",
      "100 loops, best of 3: 4 ms per loop\n"
     ]
    }
   ],
   "source": [
    "x = np.random.random(10000)\n",
    "\n",
    "%timeit np.sum(x)\n",
    "%timeit sum(x)"
   ]
  },
  {
   "cell_type": "markdown",
   "metadata": {
    "slideshow": {
     "slide_type": "fragment"
    }
   },
   "source": [
    "**Dynamic type-checking is slow**.\n",
    "\n",
    "Make sure to use Numpy's ``sum``, ``min``, and ``max``."
   ]
  },
  {
   "cell_type": "markdown",
   "metadata": {
    "slideshow": {
     "slide_type": "slide"
    }
   },
   "source": [
    "### Aggregate Mini-exercises\n",
    "\n",
    "Take the following functions, and convert them into an efficient form using aggregates.  Each function expects a 1-dimensional array as input.  Double-check that your function returns the same result as the original"
   ]
  },
  {
   "cell_type": "code",
   "execution_count": 59,
   "metadata": {
    "collapsed": false,
    "slideshow": {
     "slide_type": "fragment"
    }
   },
   "outputs": [
    {
     "name": "stdout",
     "output_type": "stream",
     "text": [
      "28.3126613072\n"
     ]
    }
   ],
   "source": [
    "def slow_cubesum(x):\n",
    "    \"\"\"x is a 1D array\"\"\"\n",
    "    result = 0\n",
    "    for i in range(len(x)):\n",
    "        result += x[i] ** 3\n",
    "    return result\n",
    "\n",
    "x = np.random.random(100)\n",
    "print slow_cubesum(x)"
   ]
  },
  {
   "cell_type": "code",
   "execution_count": 60,
   "metadata": {
    "collapsed": false,
    "slideshow": {
     "slide_type": "fragment"
    }
   },
   "outputs": [],
   "source": [
    "# implement fast_cubesum\n",
    "\n"
   ]
  },
  {
   "cell_type": "code",
   "execution_count": 61,
   "metadata": {
    "collapsed": false,
    "slideshow": {
     "slide_type": "fragment"
    }
   },
   "outputs": [
    {
     "name": "stdout",
     "output_type": "stream",
     "text": [
      "0.298246500479\n"
     ]
    }
   ],
   "source": [
    "def slow_rms(x):\n",
    "    \"\"\"x is a 1D array\"\"\"\n",
    "    m = np.mean(x)\n",
    "    rms = 0\n",
    "    for i in range(len(x)):\n",
    "        rms += (x[i] - m) ** 2\n",
    "    rms /= len(x)\n",
    "    return np.sqrt(rms)\n",
    "\n",
    "x = np.random.random(100)\n",
    "print slow_rms(x)"
   ]
  },
  {
   "cell_type": "code",
   "execution_count": 62,
   "metadata": {
    "collapsed": false,
    "slideshow": {
     "slide_type": "fragment"
    }
   },
   "outputs": [],
   "source": [
    "# implement fast_rms\n"
   ]
  },
  {
   "cell_type": "markdown",
   "metadata": {
    "slideshow": {
     "slide_type": "fragment"
    }
   },
   "source": [
    "Now we return to our silly function from the beginning of this section.  Can you implement a fast version using ufuncs and aggregates?"
   ]
  },
  {
   "cell_type": "code",
   "execution_count": 63,
   "metadata": {
    "collapsed": false,
    "slideshow": {
     "slide_type": "fragment"
    }
   },
   "outputs": [
    {
     "name": "stdout",
     "output_type": "stream",
     "text": [
      "-33.0\n"
     ]
    }
   ],
   "source": [
    "def slow_sillyfunc(N):\n",
    "    \"\"\"N is an integer\"\"\"\n",
    "    d = 0.0\n",
    "    for i in range(N):\n",
    "        d += (i % 3 - 1) * i\n",
    "    return d\n",
    "\n",
    "print slow_sillyfunc(100)"
   ]
  },
  {
   "cell_type": "code",
   "execution_count": 64,
   "metadata": {
    "collapsed": false,
    "slideshow": {
     "slide_type": "fragment"
    }
   },
   "outputs": [],
   "source": [
    "# Implement fast_sillyfunc using ufuncs & aggragates\n",
    "\n"
   ]
  },
  {
   "cell_type": "markdown",
   "metadata": {
    "slideshow": {
     "slide_type": "slide"
    }
   },
   "source": [
    "## Strategy 3: Using Numpy Broadcasting\n",
    "\n",
    "We've taken a look at broadcasting previously.  But it's important enough that we'll review it quickly here:\n",
    "\n",
    "\n",
    "<img src=\"http://www.astroml.org/_images/fig_broadcast_visual_1.png\">\n",
    "\n",
    "([image source](http://www.astroml.org/book_figures/appendix/fig_broadcast_visual.html))\n",
    "\n",
    "**Broadcasting rules:**\n",
    "\n",
    "1. If the two arrays differ in their number of dimensions, the shape of the array with fewer dimensions is *padded* with ones on its leading (left) side.\n",
    "\n",
    "2. If the shape of the two arrays does not match in any dimension, the array with shape equal to 1 in that dimension is *stretched* to match the other shape.\n",
    "\n",
    "3. If in any dimension the sizes disagree and neither is equal to 1, an error is raised."
   ]
  },
  {
   "cell_type": "markdown",
   "metadata": {
    "slideshow": {
     "slide_type": "slide"
    }
   },
   "source": [
    "### Some Broadcasting examples..."
   ]
  },
  {
   "cell_type": "code",
   "execution_count": 65,
   "metadata": {
    "collapsed": false,
    "slideshow": {
     "slide_type": "fragment"
    }
   },
   "outputs": [
    {
     "name": "stdout",
     "output_type": "stream",
     "text": [
      "[ 0  1  4  9 16 25 36 49 64 81]\n"
     ]
    }
   ],
   "source": [
    "x = np.arange(10)\n",
    "print x ** 2"
   ]
  },
  {
   "cell_type": "code",
   "execution_count": 66,
   "metadata": {
    "collapsed": false,
    "slideshow": {
     "slide_type": "fragment"
    }
   },
   "outputs": [
    {
     "name": "stdout",
     "output_type": "stream",
     "text": [
      "[[ 0  0  0  0  0  0  0  0  0  0]\n",
      " [ 0  1  2  3  4  5  6  7  8  9]\n",
      " [ 0  2  4  6  8 10 12 14 16 18]\n",
      " [ 0  3  6  9 12 15 18 21 24 27]\n",
      " [ 0  4  8 12 16 20 24 28 32 36]\n",
      " [ 0  5 10 15 20 25 30 35 40 45]\n",
      " [ 0  6 12 18 24 30 36 42 48 54]\n",
      " [ 0  7 14 21 28 35 42 49 56 63]\n",
      " [ 0  8 16 24 32 40 48 56 64 72]\n",
      " [ 0  9 18 27 36 45 54 63 72 81]]\n"
     ]
    }
   ],
   "source": [
    "Y = x * x[:, np.newaxis]\n",
    "print Y"
   ]
  },
  {
   "cell_type": "code",
   "execution_count": 67,
   "metadata": {
    "collapsed": false,
    "slideshow": {
     "slide_type": "fragment"
    }
   },
   "outputs": [
    {
     "name": "stdout",
     "output_type": "stream",
     "text": [
      "[[  0  10  20  30  40  50  60  70  80  90]\n",
      " [  0  11  22  33  44  55  66  77  88  99]\n",
      " [  0  12  24  36  48  60  72  84  96 108]\n",
      " [  0  13  26  39  52  65  78  91 104 117]\n",
      " [  0  14  28  42  56  70  84  98 112 126]\n",
      " [  0  15  30  45  60  75  90 105 120 135]\n",
      " [  0  16  32  48  64  80  96 112 128 144]\n",
      " [  0  17  34  51  68  85 102 119 136 153]\n",
      " [  0  18  36  54  72  90 108 126 144 162]\n",
      " [  0  19  38  57  76  95 114 133 152 171]]\n"
     ]
    }
   ],
   "source": [
    "print Y + 10 * x"
   ]
  },
  {
   "cell_type": "code",
   "execution_count": 68,
   "metadata": {
    "collapsed": false,
    "slideshow": {
     "slide_type": "fragment"
    }
   },
   "outputs": [
    {
     "name": "stdout",
     "output_type": "stream",
     "text": [
      "[[  0   0   0   0   0   0   0   0   0   0]\n",
      " [ 10  11  12  13  14  15  16  17  18  19]\n",
      " [ 20  22  24  26  28  30  32  34  36  38]\n",
      " [ 30  33  36  39  42  45  48  51  54  57]\n",
      " [ 40  44  48  52  56  60  64  68  72  76]\n",
      " [ 50  55  60  65  70  75  80  85  90  95]\n",
      " [ 60  66  72  78  84  90  96 102 108 114]\n",
      " [ 70  77  84  91  98 105 112 119 126 133]\n",
      " [ 80  88  96 104 112 120 128 136 144 152]\n",
      " [ 90  99 108 117 126 135 144 153 162 171]]\n"
     ]
    }
   ],
   "source": [
    "print Y + 10 * x[:, np.newaxis]"
   ]
  },
  {
   "cell_type": "code",
   "execution_count": 69,
   "metadata": {
    "collapsed": false,
    "slideshow": {
     "slide_type": "fragment"
    }
   },
   "outputs": [
    {
     "name": "stdout",
     "output_type": "stream",
     "text": [
      "[[[  0.86229625   0.64617272   0.81395431   0.57150281]\n",
      "  [ 10.72496019  10.95945758  10.0420753   10.37791557]\n",
      "  [ 20.70117792  20.47498435  20.92576569  20.26448722]]\n",
      "\n",
      " [[  0.98847073   0.84611754   0.62249531   0.97384757]\n",
      "  [ 10.29122012  10.81186259  10.9161937   10.14179008]\n",
      "  [ 20.65886012  20.99372243  20.88986833  20.12829632]]]\n"
     ]
    }
   ],
   "source": [
    "Y = np.random.random((2, 3, 4))\n",
    "x = 10 * np.arange(3)\n",
    "\n",
    "print Y + x[:, np.newaxis]"
   ]
  },
  {
   "cell_type": "markdown",
   "metadata": {
    "slideshow": {
     "slide_type": "slide"
    }
   },
   "source": [
    "### Quick Broadcasting Exercise\n",
    "\n",
    "Now, assume you have $N$ points in $D$ dimensions, represented by an array of shape ``[N, D]``.\n",
    "\n",
    "1. Compute the mean of the distribution of points efficiently using the built-in ``np.mean`` aggregate (that is, find the ``D``-dimensional point which is the mean of the rest of the points)\n",
    "2. Compute the mean of the distribution of points efficiently using the ``np.add`` ufunc.\n",
    "3. Compute the standard error of the mean $\\sigma_{mean} = \\sigma N^{-1/2}$, where $\\sigma$ is the standard-deviation, using the ``np.std`` aggregate.\n",
    "4. Compute this again using the ``np.add`` ufunc.\n",
    "5. Construct the matrix ``M``, the centered and normalized version of the ``X`` array: $$ M_{ij} = (X_{ij} - \\mu_j) / \\sigma_j $$  This is one version of *whitening* the array.\n",
    "    "
   ]
  },
  {
   "cell_type": "code",
   "execution_count": 70,
   "metadata": {
    "collapsed": false,
    "slideshow": {
     "slide_type": "fragment"
    }
   },
   "outputs": [],
   "source": [
    "X = np.random.random((1000, 5))  # 1000 points in 5 dimensions"
   ]
  },
  {
   "cell_type": "code",
   "execution_count": 71,
   "metadata": {
    "collapsed": false,
    "slideshow": {
     "slide_type": "fragment"
    }
   },
   "outputs": [],
   "source": [
    "# 1. Compute the mean of the 1000 points in X\n",
    "\n"
   ]
  },
  {
   "cell_type": "code",
   "execution_count": 72,
   "metadata": {
    "collapsed": false,
    "slideshow": {
     "slide_type": "fragment"
    }
   },
   "outputs": [],
   "source": [
    "# 2. Compute the mean using np.add\n",
    "\n"
   ]
  },
  {
   "cell_type": "code",
   "execution_count": 73,
   "metadata": {
    "collapsed": false,
    "slideshow": {
     "slide_type": "fragment"
    }
   },
   "outputs": [],
   "source": [
    "# 3. Compute the standard deviation across the 1000 points\n",
    "\n"
   ]
  },
  {
   "cell_type": "code",
   "execution_count": 74,
   "metadata": {
    "collapsed": false,
    "slideshow": {
     "slide_type": "fragment"
    }
   },
   "outputs": [],
   "source": [
    "# 4. Compute the standard deviation using np.add only\n",
    "\n"
   ]
  },
  {
   "cell_type": "code",
   "execution_count": 75,
   "metadata": {
    "collapsed": false,
    "slideshow": {
     "slide_type": "fragment"
    }
   },
   "outputs": [],
   "source": [
    "# 5. Compute the whitened version of the array\n",
    "\n"
   ]
  },
  {
   "cell_type": "markdown",
   "metadata": {
    "slideshow": {
     "slide_type": "slide"
    }
   },
   "source": [
    "## Strategy 4: Fancy Indexing and Masking\n",
    "\n",
    "The last strategy we will cover is fancy indexing and masking.\n",
    "\n",
    "For example, imagine you have an array of data where negative values indicate some kind of error."
   ]
  },
  {
   "cell_type": "code",
   "execution_count": 76,
   "metadata": {
    "collapsed": false,
    "slideshow": {
     "slide_type": "fragment"
    }
   },
   "outputs": [],
   "source": [
    "x = np.array([1, 2, 3, -999, 2, 4, -999])"
   ]
  },
  {
   "cell_type": "markdown",
   "metadata": {
    "slideshow": {
     "slide_type": "fragment"
    }
   },
   "source": [
    "How might you clean this array, setting all negative values to, say, zero?"
   ]
  },
  {
   "cell_type": "code",
   "execution_count": 77,
   "metadata": {
    "collapsed": false,
    "slideshow": {
     "slide_type": "fragment"
    }
   },
   "outputs": [
    {
     "name": "stdout",
     "output_type": "stream",
     "text": [
      "[1 2 3 0 2 4 0]\n"
     ]
    }
   ],
   "source": [
    "for i in range(len(x)):\n",
    "    if x[i] < 0:\n",
    "        x[i] = 0\n",
    "print x"
   ]
  },
  {
   "cell_type": "markdown",
   "metadata": {
    "slideshow": {
     "slide_type": "fragment"
    }
   },
   "source": [
    "A faster way is to construct a *boolean mask*:"
   ]
  },
  {
   "cell_type": "code",
   "execution_count": 78,
   "metadata": {
    "collapsed": false,
    "slideshow": {
     "slide_type": "fragment"
    }
   },
   "outputs": [
    {
     "name": "stdout",
     "output_type": "stream",
     "text": [
      "[False False False  True False False  True]\n"
     ]
    }
   ],
   "source": [
    "x = np.array([1, 2, 3, -999, 2, 4, -999])\n",
    "\n",
    "mask = (x < 0)\n",
    "print mask"
   ]
  },
  {
   "cell_type": "markdown",
   "metadata": {
    "slideshow": {
     "slide_type": "fragment"
    }
   },
   "source": [
    "And the mask can be used directly to set the value you desire:"
   ]
  },
  {
   "cell_type": "code",
   "execution_count": 79,
   "metadata": {
    "collapsed": false,
    "slideshow": {
     "slide_type": "fragment"
    }
   },
   "outputs": [
    {
     "name": "stdout",
     "output_type": "stream",
     "text": [
      "[1 2 3 0 2 4 0]\n"
     ]
    }
   ],
   "source": [
    "x[mask] = 0\n",
    "print x"
   ]
  },
  {
   "cell_type": "markdown",
   "metadata": {
    "slideshow": {
     "slide_type": "fragment"
    }
   },
   "source": [
    "Typically this is done directly:"
   ]
  },
  {
   "cell_type": "code",
   "execution_count": 80,
   "metadata": {
    "collapsed": false,
    "slideshow": {
     "slide_type": "fragment"
    }
   },
   "outputs": [
    {
     "name": "stdout",
     "output_type": "stream",
     "text": [
      "[1 2 3 0 2 4 0]\n"
     ]
    }
   ],
   "source": [
    "x = np.array([1, 2, 3, -999, 2, 4, -999])\n",
    "x[x < 0] = 0\n",
    "print x"
   ]
  },
  {
   "cell_type": "markdown",
   "metadata": {
    "slideshow": {
     "slide_type": "slide"
    }
   },
   "source": [
    "### Useful masking functions"
   ]
  },
  {
   "cell_type": "code",
   "execution_count": 81,
   "metadata": {
    "collapsed": false,
    "slideshow": {
     "slide_type": "fragment"
    }
   },
   "outputs": [
    {
     "name": "stdout",
     "output_type": "stream",
     "text": [
      "[ 0.97053187  0.72813759  0.95240005  0.04301341  0.77007516]\n"
     ]
    }
   ],
   "source": [
    "x = np.random.random(5)\n",
    "print x"
   ]
  },
  {
   "cell_type": "code",
   "execution_count": 82,
   "metadata": {
    "collapsed": false,
    "slideshow": {
     "slide_type": "fragment"
    }
   },
   "outputs": [
    {
     "name": "stdout",
     "output_type": "stream",
     "text": [
      "[        nan         nan         nan  0.04301341         nan]\n"
     ]
    }
   ],
   "source": [
    "x[x > 0.5] = np.nan\n",
    "print x"
   ]
  },
  {
   "cell_type": "code",
   "execution_count": 83,
   "metadata": {
    "collapsed": false,
    "slideshow": {
     "slide_type": "fragment"
    }
   },
   "outputs": [
    {
     "name": "stdout",
     "output_type": "stream",
     "text": [
      "[        inf         inf         inf  0.04301341         inf]\n"
     ]
    }
   ],
   "source": [
    "x[np.isnan(x)] = np.inf\n",
    "print x"
   ]
  },
  {
   "cell_type": "code",
   "execution_count": 84,
   "metadata": {
    "collapsed": false,
    "slideshow": {
     "slide_type": "fragment"
    }
   },
   "outputs": [
    {
     "data": {
      "text/plain": [
       "False"
      ]
     },
     "execution_count": 84,
     "metadata": {},
     "output_type": "execute_result"
    }
   ],
   "source": [
    "np.nan == np.nan"
   ]
  },
  {
   "cell_type": "code",
   "execution_count": 85,
   "metadata": {
    "collapsed": false,
    "slideshow": {
     "slide_type": "fragment"
    }
   },
   "outputs": [
    {
     "name": "stdout",
     "output_type": "stream",
     "text": [
      "[ 0.          0.          0.          0.04301341  0.        ]\n"
     ]
    }
   ],
   "source": [
    "x[np.isinf(x)] = 0\n",
    "print x"
   ]
  },
  {
   "cell_type": "code",
   "execution_count": 86,
   "metadata": {
    "collapsed": false,
    "slideshow": {
     "slide_type": "fragment"
    }
   },
   "outputs": [
    {
     "name": "stdout",
     "output_type": "stream",
     "text": [
      "input    [  1.   0. -inf  inf  nan]\n",
      "x < 0    [False False  True False False]\n",
      "x > 0    [ True False False  True False]\n",
      "isinf    [False False  True  True False]\n",
      "isnan    [False False False False  True]\n",
      "isposinf [False False False  True False]\n",
      "isneginf [False False  True False False]\n"
     ]
    }
   ],
   "source": [
    "x = np.array([1, 0, -np.inf, np.inf, np.nan])\n",
    "print \"input   \", x\n",
    "print \"x < 0   \", (x < 0)\n",
    "print \"x > 0   \", (x > 0)\n",
    "print \"isinf   \", np.isinf(x)\n",
    "print \"isnan   \", np.isnan(x)\n",
    "print \"isposinf\", np.isposinf(x)\n",
    "print \"isneginf\", np.isneginf(x)"
   ]
  },
  {
   "cell_type": "markdown",
   "metadata": {
    "slideshow": {
     "slide_type": "slide"
    }
   },
   "source": [
    "### Boolean Operations on Masks\n",
    "\n",
    "Use bitwise operators (and make sure to use parentheses!)"
   ]
  },
  {
   "cell_type": "code",
   "execution_count": 87,
   "metadata": {
    "collapsed": false,
    "slideshow": {
     "slide_type": "fragment"
    }
   },
   "outputs": [
    {
     "name": "stdout",
     "output_type": "stream",
     "text": [
      "[[ 0  1  2  3]\n",
      " [ 4  5  6  7]\n",
      " [ 8  9 10 11]\n",
      " [12 13 14 15]]\n"
     ]
    }
   ],
   "source": [
    "x = np.arange(16).reshape((4, 4))\n",
    "print x"
   ]
  },
  {
   "cell_type": "code",
   "execution_count": 88,
   "metadata": {
    "collapsed": false,
    "slideshow": {
     "slide_type": "fragment"
    }
   },
   "outputs": [
    {
     "name": "stdout",
     "output_type": "stream",
     "text": [
      "[[ True  True  True  True]\n",
      " [ True False False False]\n",
      " [False False False False]\n",
      " [False False False False]]\n"
     ]
    }
   ],
   "source": [
    "print (x < 5)"
   ]
  },
  {
   "cell_type": "code",
   "execution_count": 89,
   "metadata": {
    "collapsed": false,
    "slideshow": {
     "slide_type": "fragment"
    }
   },
   "outputs": [
    {
     "name": "stdout",
     "output_type": "stream",
     "text": [
      "[[False False False False]\n",
      " [False  True  True  True]\n",
      " [ True  True  True  True]\n",
      " [ True  True  True  True]]\n"
     ]
    }
   ],
   "source": [
    "print ~(x < 5)"
   ]
  },
  {
   "cell_type": "code",
   "execution_count": 90,
   "metadata": {
    "collapsed": false,
    "slideshow": {
     "slide_type": "fragment"
    }
   },
   "outputs": [
    {
     "name": "stdout",
     "output_type": "stream",
     "text": [
      "[[ True False  True False]\n",
      " [ True False  True False]\n",
      " [ True False False False]\n",
      " [False False False False]]\n"
     ]
    }
   ],
   "source": [
    "print (x < 10) & (x % 2 == 0)"
   ]
  },
  {
   "cell_type": "code",
   "execution_count": 91,
   "metadata": {
    "collapsed": false,
    "slideshow": {
     "slide_type": "fragment"
    }
   },
   "outputs": [
    {
     "name": "stdout",
     "output_type": "stream",
     "text": [
      "[[False False False False]\n",
      " [ True  True  True  True]\n",
      " [False False False False]\n",
      " [False False False False]]\n"
     ]
    }
   ],
   "source": [
    "print (x > 3) & (x < 8)"
   ]
  },
  {
   "cell_type": "markdown",
   "metadata": {
    "slideshow": {
     "slide_type": "slide"
    }
   },
   "source": [
    "### Counting elements with a mask\n",
    "\n",
    "Sum over a mask to find the number of ``True`` elements:"
   ]
  },
  {
   "cell_type": "code",
   "execution_count": 92,
   "metadata": {
    "collapsed": false,
    "slideshow": {
     "slide_type": "fragment"
    }
   },
   "outputs": [
    {
     "name": "stdout",
     "output_type": "stream",
     "text": [
      "array is length 100 and has\n",
      "50 elements are greater than 0.5\n"
     ]
    }
   ],
   "source": [
    "x = np.random.random(100)\n",
    "print \"array is length\", len(x), \"and has\"\n",
    "print (x > 0.5).sum(), \"elements are greater than 0.5\""
   ]
  },
  {
   "cell_type": "code",
   "execution_count": 93,
   "metadata": {
    "collapsed": false,
    "slideshow": {
     "slide_type": "fragment"
    }
   },
   "outputs": [
    {
     "name": "stdout",
     "output_type": "stream",
     "text": [
      "0\n",
      "0\n"
     ]
    }
   ],
   "source": [
    "# clip is a useful function:\n",
    "x = np.clip(x, 0.3, 0.6)\n",
    "\n",
    "print np.sum(x < 0.3)\n",
    "print np.sum(x > 0.6)"
   ]
  },
  {
   "cell_type": "code",
   "execution_count": 94,
   "metadata": {
    "collapsed": false,
    "slideshow": {
     "slide_type": "fragment"
    }
   },
   "outputs": [
    {
     "name": "stdout",
     "output_type": "stream",
     "text": [
      "9\n"
     ]
    }
   ],
   "source": [
    "# works for 2D arrays as well\n",
    "X = np.random.random((10, 10))\n",
    "print (X < 0.1).sum()"
   ]
  },
  {
   "cell_type": "markdown",
   "metadata": {
    "slideshow": {
     "slide_type": "slide"
    }
   },
   "source": [
    "### ``where`` function: Turning a mask into indices"
   ]
  },
  {
   "cell_type": "code",
   "execution_count": 95,
   "metadata": {
    "collapsed": false,
    "slideshow": {
     "slide_type": "fragment"
    }
   },
   "outputs": [
    {
     "name": "stdout",
     "output_type": "stream",
     "text": [
      "[[ 0.82518495  0.49805524  0.00840461]\n",
      " [ 0.85186368  0.98583616  0.77922605]\n",
      " [ 0.52795826  0.20786051  0.49627606]]\n"
     ]
    }
   ],
   "source": [
    "x = np.random.random((3, 3))\n",
    "print x"
   ]
  },
  {
   "cell_type": "code",
   "execution_count": 96,
   "metadata": {
    "collapsed": false,
    "slideshow": {
     "slide_type": "fragment"
    }
   },
   "outputs": [
    {
     "name": "stdout",
     "output_type": "stream",
     "text": [
      "(array([0, 2]), array([2, 1]))\n"
     ]
    }
   ],
   "source": [
    "print np.where(x < 0.3)"
   ]
  },
  {
   "cell_type": "code",
   "execution_count": 97,
   "metadata": {
    "collapsed": false,
    "slideshow": {
     "slide_type": "fragment"
    }
   },
   "outputs": [
    {
     "name": "stdout",
     "output_type": "stream",
     "text": [
      "[ 0.00840461  0.20786051]\n"
     ]
    }
   ],
   "source": [
    "print x[x < 0.3]"
   ]
  },
  {
   "cell_type": "code",
   "execution_count": 98,
   "metadata": {
    "collapsed": false,
    "slideshow": {
     "slide_type": "fragment"
    }
   },
   "outputs": [
    {
     "name": "stdout",
     "output_type": "stream",
     "text": [
      "[ 0.00840461  0.20786051]\n"
     ]
    }
   ],
   "source": [
    "print x[np.where(x < 0.3)]"
   ]
  },
  {
   "cell_type": "markdown",
   "metadata": {
    "slideshow": {
     "slide_type": "fragment"
    }
   },
   "source": [
    "When you index with the result of a ``where`` function, you are using what is called *fancy indexing*: indexing with tuples"
   ]
  },
  {
   "cell_type": "markdown",
   "metadata": {
    "slideshow": {
     "slide_type": "slide"
    }
   },
   "source": [
    "### Fancy Indexing (indexing with sequences)"
   ]
  },
  {
   "cell_type": "code",
   "execution_count": 99,
   "metadata": {
    "collapsed": false,
    "slideshow": {
     "slide_type": "fragment"
    }
   },
   "outputs": [
    {
     "name": "stdout",
     "output_type": "stream",
     "text": [
      "[[ 0  1  2  3]\n",
      " [ 4  5  6  7]\n",
      " [ 8  9 10 11]\n",
      " [12 13 14 15]]\n"
     ]
    }
   ],
   "source": [
    "X = np.arange(16).reshape((4, 4))\n",
    "print X"
   ]
  },
  {
   "cell_type": "code",
   "execution_count": 100,
   "metadata": {
    "collapsed": false,
    "slideshow": {
     "slide_type": "fragment"
    }
   },
   "outputs": [
    {
     "data": {
      "text/plain": [
       "array([1, 4])"
      ]
     },
     "execution_count": 100,
     "metadata": {},
     "output_type": "execute_result"
    }
   ],
   "source": [
    "X[(0, 1), (1, 0)]"
   ]
  },
  {
   "cell_type": "code",
   "execution_count": 101,
   "metadata": {
    "collapsed": false,
    "slideshow": {
     "slide_type": "fragment"
    }
   },
   "outputs": [
    {
     "data": {
      "text/plain": [
       "array([ 0,  5, 10, 15])"
      ]
     },
     "execution_count": 101,
     "metadata": {},
     "output_type": "execute_result"
    }
   ],
   "source": [
    "X[range(4), range(4)]"
   ]
  },
  {
   "cell_type": "code",
   "execution_count": 102,
   "metadata": {
    "collapsed": false,
    "slideshow": {
     "slide_type": "fragment"
    }
   },
   "outputs": [
    {
     "data": {
      "text/plain": [
       "array([ 0,  5, 10, 15])"
      ]
     },
     "execution_count": 102,
     "metadata": {},
     "output_type": "execute_result"
    }
   ],
   "source": [
    "X.diagonal()"
   ]
  },
  {
   "cell_type": "code",
   "execution_count": 103,
   "metadata": {
    "collapsed": false,
    "slideshow": {
     "slide_type": "fragment"
    }
   },
   "outputs": [
    {
     "ename": "SyntaxError",
     "evalue": "can't assign to function call (<ipython-input-103-3064a6b8dbd8>, line 1)",
     "output_type": "error",
     "traceback": [
      "\u001b[0;36m  File \u001b[0;32m\"<ipython-input-103-3064a6b8dbd8>\"\u001b[0;36m, line \u001b[0;32m1\u001b[0m\n\u001b[0;31m    X.diagonal() = 100\u001b[0m\n\u001b[0;31mSyntaxError\u001b[0m\u001b[0;31m:\u001b[0m can't assign to function call\n"
     ]
    }
   ],
   "source": [
    "X.diagonal() = 100"
   ]
  },
  {
   "cell_type": "code",
   "execution_count": 104,
   "metadata": {
    "collapsed": false,
    "slideshow": {
     "slide_type": "fragment"
    }
   },
   "outputs": [],
   "source": [
    "X[range(4), range(4)] = 100"
   ]
  },
  {
   "cell_type": "code",
   "execution_count": 105,
   "metadata": {
    "collapsed": false,
    "slideshow": {
     "slide_type": "fragment"
    }
   },
   "outputs": [
    {
     "name": "stdout",
     "output_type": "stream",
     "text": [
      "[[100   1   2   3]\n",
      " [  4 100   6   7]\n",
      " [  8   9 100  11]\n",
      " [ 12  13  14 100]]\n"
     ]
    }
   ],
   "source": [
    "print X"
   ]
  },
  {
   "cell_type": "markdown",
   "metadata": {
    "slideshow": {
     "slide_type": "slide"
    }
   },
   "source": [
    "#### Randomizing the rows"
   ]
  },
  {
   "cell_type": "code",
   "execution_count": 106,
   "metadata": {
    "collapsed": false,
    "slideshow": {
     "slide_type": "fragment"
    }
   },
   "outputs": [
    {
     "name": "stdout",
     "output_type": "stream",
     "text": [
      "[[ 0  1  2  3]\n",
      " [ 4  5  6  7]\n",
      " [ 8  9 10 11]\n",
      " [12 13 14 15]\n",
      " [16 17 18 19]\n",
      " [20 21 22 23]]\n"
     ]
    }
   ],
   "source": [
    "X = np.arange(24).reshape((6, 4))\n",
    "print X"
   ]
  },
  {
   "cell_type": "code",
   "execution_count": 107,
   "metadata": {
    "collapsed": false,
    "slideshow": {
     "slide_type": "fragment"
    }
   },
   "outputs": [
    {
     "name": "stdout",
     "output_type": "stream",
     "text": [
      "[0 5 3 1 4 2]\n"
     ]
    }
   ],
   "source": [
    "i = np.arange(6)\n",
    "np.random.shuffle(i)\n",
    "print i"
   ]
  },
  {
   "cell_type": "code",
   "execution_count": 108,
   "metadata": {
    "collapsed": false,
    "slideshow": {
     "slide_type": "fragment"
    }
   },
   "outputs": [
    {
     "name": "stdout",
     "output_type": "stream",
     "text": [
      "[[ 0  1  2  3]\n",
      " [20 21 22 23]\n",
      " [12 13 14 15]\n",
      " [ 4  5  6  7]\n",
      " [16 17 18 19]\n",
      " [ 8  9 10 11]]\n"
     ]
    }
   ],
   "source": [
    "print X[i]  # X[i, :] is identical"
   ]
  },
  {
   "cell_type": "markdown",
   "metadata": {
    "slideshow": {
     "slide_type": "fragment"
    }
   },
   "source": [
    "Fancy indexing also works for multi-dimensional index arrays"
   ]
  },
  {
   "cell_type": "code",
   "execution_count": 109,
   "metadata": {
    "collapsed": false,
    "slideshow": {
     "slide_type": "fragment"
    }
   },
   "outputs": [
    {
     "name": "stdout",
     "output_type": "stream",
     "text": [
      "[[[ 0  1  2  3]\n",
      "  [20 21 22 23]]\n",
      "\n",
      " [[12 13 14 15]\n",
      "  [ 4  5  6  7]]\n",
      "\n",
      " [[16 17 18 19]\n",
      "  [ 8  9 10 11]]]\n"
     ]
    }
   ],
   "source": [
    "i2 = i.reshape(3, 2)\n",
    "print X[i2]"
   ]
  },
  {
   "cell_type": "code",
   "execution_count": 110,
   "metadata": {
    "collapsed": false,
    "slideshow": {
     "slide_type": "fragment"
    }
   },
   "outputs": [
    {
     "name": "stdout",
     "output_type": "stream",
     "text": [
      "(3, 2, 4)\n"
     ]
    }
   ],
   "source": [
    "print X[i2].shape"
   ]
  },
  {
   "cell_type": "markdown",
   "metadata": {},
   "source": [
    "## Summary: Speeding up NumPy\n",
    "\n",
    "It's all about **moving loops into compiled code:**\n",
    "\n",
    "1. Use Numpy **ufuncs** to your advantage (eliminate loops!)\n",
    "\n",
    "2. Use Numpy **aggregates** to your advantage (eliminate loops!)\n",
    "\n",
    "3. Use Numpy **broadcasting** to your advantage (eliminate loops!)\n",
    "\n",
    "4. Use Numpy **slicing and masking** to your advantage (eliminate loops!)\n",
    "\n",
    "5. Use a tool like *SWIG*, *cython* or *f2py* to interface to compiled code."
   ]
  },
  {
   "cell_type": "markdown",
   "metadata": {
    "slideshow": {
     "slide_type": "slide"
    }
   },
   "source": [
    "## Homework: asteroid data\n",
    "\n",
    "In the [github repository](https://github.com/jakevdp/2013_fall_ASTR599/), there is a file containing measurements of 5000 asteroid orbits, at ``notebooks/data/asteroids5000.csv``.\n",
    "\n",
    "These are compiled from a query at [http://ssd.jpl.nasa.gov/sbdb_query.cgi](http://ssd.jpl.nasa.gov/sbdb_query.cgi)\n",
    "\n",
    "### Part 1: loading and exploring the data\n",
    "\n",
    "1. Use ``np.genfromtxt`` to load the data from the file.  This is like ``loadtxt``, but can handle missing data.\n",
    "\n",
    "    - Remember to set the appropriate ``delimiter`` keyword.\n",
    "\n",
    "2. ``genfromtxt`` sets all missing values to ``np.nan``.  Use the operations we discussed here to answer these questions:\n",
    "\n",
    "     - How many values are missing in this data?\n",
    "     - How many complete *rows* are there?  i.e. how many objects have **no** missing values?\n",
    "\n",
    "3. Create a new array containing only the rows with no missing values.\n",
    "\n",
    "4. Compute the maximum, minimum, mean, and standard deviation of the values in each column."
   ]
  },
  {
   "cell_type": "code",
   "execution_count": null,
   "metadata": {
    "collapsed": false,
    "slideshow": {
     "slide_type": "fragment"
    }
   },
   "outputs": [],
   "source": []
  },
  {
   "cell_type": "markdown",
   "metadata": {
    "slideshow": {
     "slide_type": "slide"
    }
   },
   "source": [
    "### Part 2: Plotting the data\n",
    "\n",
    "1. Use the bash ``head`` command to display the first line of the data file: this lists the names of the columns in the dataset. (remember that bash commands in the notebook are indicated by ``!``, and that ``head -n`` displays the first ``n`` lines of a file)\n",
    "\n",
    "2. Invoke the ``matplotlib inline`` magic to make figures appear inline in the notebook\n",
    "\n",
    "3. Use ``plt.scatter`` to plot the semi-major axis versus the sine of the inclination angle (note that the inclination angle is listed in degrees -- you'll have to convert it to radians to compute the sine).  What do you notice about the distribution?  What do you think could explain this?\n",
    "\n",
    "4. Use ``plt.scatter`` to plot a color-magnitude diagram of the asteroids (H vs B-V).  You should see two distinct \"families\" of asteroids indicated in this plot.  Over-plot a line that divides these.\n",
    "\n",
    "5. Repeat the orbital parameter plot from above, but plot the two \"families\" from #4 in different colors.  Note that this magnitude is undefined for many of the asteroids.  Do you see any correlation between color and orbit?\n",
    "\n",
    "6. Compare what you found to plots in [Parker et al. 2008](http://adsabs.harvard.edu/abs/2008Icar..198..138P).  Note that we're not using the same data here, but we're looking at a similar collection of objects."
   ]
  },
  {
   "cell_type": "code",
   "execution_count": null,
   "metadata": {
    "collapsed": false,
    "slideshow": {
     "slide_type": "fragment"
    }
   },
   "outputs": [],
   "source": []
  }
 ],
 "metadata": {
  "kernelspec": {
   "display_name": "Python 2",
   "language": "python",
   "name": "python2"
  },
  "language_info": {
   "codemirror_mode": {
    "name": "ipython",
    "version": 2
   },
   "file_extension": ".py",
   "mimetype": "text/x-python",
   "name": "python",
   "nbconvert_exporter": "python",
   "pygments_lexer": "ipython2",
   "version": "2.7.11"
  }
 },
 "nbformat": 4,
 "nbformat_minor": 0
}
